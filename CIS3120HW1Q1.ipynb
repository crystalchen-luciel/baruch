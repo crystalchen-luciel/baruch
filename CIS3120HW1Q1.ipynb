{
 "cells": [
  {
   "cell_type": "code",
   "execution_count": 2,
   "id": "cd5808fe",
   "metadata": {},
   "outputs": [],
   "source": [
    "## Homework 1, Question 1 Web Scraping"
   ]
  },
  {
   "cell_type": "code",
   "execution_count": 1,
   "id": "33e34470",
   "metadata": {},
   "outputs": [
    {
     "name": "stdout",
     "output_type": "stream",
     "text": [
      "The average height of the Men's Swimming Team is: 70.74 inches.\n",
      "The average height of the Men's Volleyball Team is: 72.25 inches.\n",
      "The average height of the Women's Swimming Team is: 64.33 inches.\n",
      "The average height of the Women's Volleyball Team is: 67.25 inches.\n"
     ]
    }
   ],
   "source": [
    "# Importing libraries to utilize for the code\n",
    "import requests\n",
    "from bs4 import BeautifulSoup\n",
    "\n",
    "# Creating a function that receives the URL as a parameter\n",
    "def get_player_heights(url, team_name):\n",
    "    heights = [] # Empty list, will append items later\n",
    "    page = requests.get(url) # Request the information from the site\n",
    "\n",
    "    if page.status_code == 200: # If the request to the server is successful\n",
    "        soup = BeautifulSoup(page.content, 'html.parser') # Parse the html\n",
    "        height_tags = soup.find_all('td', class_='height') # Find the associated tag and class for the heights\n",
    "        heights = [float(tag.get_text()[0]) * 12 + float(tag.get_text()[2:]) for tag in height_tags] # Get the text for the height as a float and convert height to inches\n",
    "        number_of_heights = len(heights) # Count the number of heights\n",
    "        sum_heights = sum(heights) # Calculate the sum of the heights\n",
    "        average_height = sum_heights / number_of_heights # Find the average heights\n",
    "\n",
    "        print(f\"The average height of the {team_name} is: {average_height:.2f} inches.\") # Print the average heights\n",
    "\n",
    "# Men's Swimming Team\n",
    "get_player_heights('https://athletics.baruch.cuny.edu/sports/mens-swimming-and-diving/roster?view=2', \"Men's Swimming Team\")\n",
    "\n",
    "# Men's Volleyball Team\n",
    "get_player_heights('https://athletics.baruch.cuny.edu/sports/mens-volleyball/roster', \"Men's Volleyball Team\")\n",
    "\n",
    "# Women's Swimming Team\n",
    "get_player_heights('https://athletics.baruch.cuny.edu/sports/womens-swimming-and-diving/roster?view=2', \"Women's Swimming Team\")\n",
    "\n",
    "# Women's Volleyball Team\n",
    "get_player_heights('https://athletics.baruch.cuny.edu/sports/womens-volleyball/roster?view=2', \"Women's Volleyball Team\")"
   ]
  }
 ],
 "metadata": {
  "kernelspec": {
   "display_name": "Python 3 (ipykernel)",
   "language": "python",
   "name": "python3"
  },
  "language_info": {
   "codemirror_mode": {
    "name": "ipython",
    "version": 3
   },
   "file_extension": ".py",
   "mimetype": "text/x-python",
   "name": "python",
   "nbconvert_exporter": "python",
   "pygments_lexer": "ipython3",
   "version": "3.11.4"
  }
 },
 "nbformat": 4,
 "nbformat_minor": 5
}
